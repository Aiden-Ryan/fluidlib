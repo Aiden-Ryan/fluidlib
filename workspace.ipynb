{
 "cells": [
  {
   "cell_type": "code",
   "execution_count": 1,
   "metadata": {},
   "outputs": [
    {
     "name": "stdout",
     "output_type": "stream",
     "text": [
      "REFPROP not found, defaulting to CoolProp\n"
     ]
    }
   ],
   "source": [
    "# import sys\n",
    "# sys.path.append('/Users/125715/python/fluidlib')\n",
    "import math as m\n",
    "import matplotlib.pyplot as plt\n",
    "import numpy as np\n",
    "import conversion_library as c; \n",
    "import volume_calc as v\n",
    "import mat_lib as mat\n",
    "import thermal_solver as t\n",
    "# from fluidlib import flow_prop_calc as f\n",
    "import gc\n"
   ]
  },
  {
   "cell_type": "code",
   "execution_count": 3,
   "metadata": {},
   "outputs": [
    {
     "name": "stdout",
     "output_type": "stream",
     "text": [
      "<class 'bool'>\n"
     ]
    }
   ],
   "source": [
    "print(type(eval(\"False\")))"
   ]
  },
  {
   "cell_type": "code",
   "execution_count": 2,
   "metadata": {},
   "outputs": [
    {
     "data": {
      "text/plain": [
       "<matplotlib.legend.Legend at 0x1befec17b00>"
      ]
     },
     "execution_count": 2,
     "metadata": {},
     "output_type": "execute_result"
    },
    {
     "data": {
      "image/png": "[encoded data removed]",
      "text/plain": [
       "<Figure size 640x480 with 1 Axes>"
      ]
     },
     "metadata": {},
     "output_type": "display_data"
    }
   ],
   "source": [
    "node1 = t.Node(\n",
    "    T = 273.15+90,\n",
    "    Pressure= c.psi2pa(115),\n",
    "    medium=\"ARGON\",\n",
    "    medium_type=\"FLUID\",\n",
    "    isothermal=True\n",
    ")\n",
    "node2 = t.Node(\n",
    "    T = 273.15 + 100,\n",
    "    Pressure= 101325,\n",
    "    medium=\"SS316\",\n",
    "    medium_type=\"SOLID\",\n",
    "    isothermal=False\n",
    ")\n",
    "node3 = t.Node(\n",
    "    T=273.15+30,\n",
    "    medium=\"SS316\",\n",
    "    medium_type=\"SOLID\",\n",
    "    V=v.cylinder(c.inch2m(0.75), 1) - v.cylinder(c.inch2m(0.75-2*.065), 1)\n",
    ")\n",
    "a = t.Path(\n",
    "    nodeA = node1,\n",
    "    nodeB = node3,\n",
    "    Area=m.pi/4*c.inch2m(0.75-2*.065)*1,\n",
    "    h= 25,\n",
    "\n",
    ")\n",
    "b = t.Path(\n",
    "    nodeA=node2,\n",
    "    nodeB=node3,\n",
    "    Area=m.pi/4*c.inch2m(0.75)*1,\n",
    "    h= 4.6\n",
    ")\n",
    "nodes = [node1, node2,node3]\n",
    "paths = [a,b]\n",
    "t_span = [0,1e4\n",
    "          ]\n",
    "t_eval = np.linspace(t_span[0], t_span[1], 100)\n",
    "\n",
    "y = t.T_vs_t(\n",
    "    t_span,\n",
    "    t_eval,\n",
    "    paths,\n",
    "    nodes\n",
    ")\n",
    "plt.plot(y.t, y.y[0])\n",
    "plt.plot(y.t, y.y[1])\n",
    "plt.plot(y.t, y.y[2])\n",
    "\n",
    "plt.legend([node1.medium, node2.medium,node3.medium])"
   ]
  },
  {
   "cell_type": "code",
   "execution_count": null,
   "metadata": {},
   "outputs": [],
   "source": []
  },
  {
   "cell_type": "code",
   "execution_count": 3,
   "metadata": {},
   "outputs": [
    {
     "ename": "AttributeError",
     "evalue": "'Path' object has no attribute 'Aconv'",
     "output_type": "error",
     "traceback": [
      "\u001b[1;31m---------------------------------------------------------------------------\u001b[0m",
      "\u001b[1;31mAttributeError\u001b[0m                            Traceback (most recent call last)",
      "Cell \u001b[1;32mIn[3], line 2\u001b[0m\n\u001b[0;32m      1\u001b[0m \u001b[38;5;66;03m#q = hA(T1-T2)\u001b[39;00m\n\u001b[1;32m----> 2\u001b[0m \u001b[38;5;28mprint\u001b[39m(a\u001b[38;5;241m.\u001b[39mh \u001b[38;5;241m*\u001b[39m \u001b[43ma\u001b[49m\u001b[38;5;241;43m.\u001b[39;49m\u001b[43mAconv\u001b[49m \u001b[38;5;241m*\u001b[39m (y\u001b[38;5;241m.\u001b[39my[\u001b[38;5;241m2\u001b[39m][\u001b[38;5;241m-\u001b[39m\u001b[38;5;241m1\u001b[39m] \u001b[38;5;241m-\u001b[39m y\u001b[38;5;241m.\u001b[39my[\u001b[38;5;241m0\u001b[39m][\u001b[38;5;241m-\u001b[39m\u001b[38;5;241m1\u001b[39m]),\n\u001b[0;32m      3\u001b[0m     a\u001b[38;5;241m.\u001b[39mAconv,\n\u001b[0;32m      4\u001b[0m     a\u001b[38;5;241m.\u001b[39mh,\n\u001b[0;32m      5\u001b[0m     y\u001b[38;5;241m.\u001b[39my[\u001b[38;5;241m2\u001b[39m][\u001b[38;5;241m-\u001b[39m\u001b[38;5;241m1\u001b[39m],\n\u001b[0;32m      6\u001b[0m     y\u001b[38;5;241m.\u001b[39my[\u001b[38;5;241m0\u001b[39m][\u001b[38;5;241m-\u001b[39m\u001b[38;5;241m1\u001b[39m]\n\u001b[0;32m      7\u001b[0m )\n",
      "\u001b[1;31mAttributeError\u001b[0m: 'Path' object has no attribute 'Aconv'"
     ]
    }
   ],
   "source": [
    "#q = hA(T1-T2)\n",
    "print(a.h * a.Aconv * (y.y[2][-1] - y.y[0][-1]),\n",
    "    a.Aconv,\n",
    "    a.h,\n",
    "    y.y[2][-1],\n",
    "    y.y[0][-1]\n",
    ")"
   ]
  },
  {
   "cell_type": "code",
   "execution_count": null,
   "metadata": {},
   "outputs": [],
   "source": [
    "print(b.h * b.Aconv * (y.y[2][-1] - y.y[1][-1]),\n",
    "    b.Aconv,\n",
    "    b.h,y.y[2][-1],\n",
    "    y.y[1][-1]\n",
    ")"
   ]
  },
  {
   "cell_type": "code",
   "execution_count": null,
   "metadata": {},
   "outputs": [],
   "source": [
    "b.h * b.Aconv / (a.h * a.Aconv)"
   ]
  },
  {
   "cell_type": "code",
   "execution_count": null,
   "metadata": {},
   "outputs": [],
   "source": [
    "(y.y[2][0] - y.y[1][0]) / (y.y[2][0] - y.y[0][0])"
   ]
  },
  {
   "cell_type": "code",
   "execution_count": null,
   "metadata": {},
   "outputs": [],
   "source": [
    "print(a.Acond,\n",
    "    b.Acond,\n",
    "    a.Arad,\n",
    "    b.Arad)"
   ]
  },
  {
   "cell_type": "code",
   "execution_count": null,
   "metadata": {},
   "outputs": [],
   "source": [
    "m.pi/4*0.62**2"
   ]
  },
  {
   "cell_type": "code",
   "execution_count": null,
   "metadata": {},
   "outputs": [],
   "source": [
    "v.cylinder(1,65.37)\n",
    "Dh = c.inch2m(5.5)\n",
    "print(Dh)\n",
    "A = c.si2sm(.44)\n",
    "print(A)\n",
    "c.pa2psi(.175)"
   ]
  },
  {
   "cell_type": "code",
   "execution_count": null,
   "metadata": {},
   "outputs": [],
   "source": [
    "VredTee = c.cmm2cin(833070.56)\n",
    "VFlange = c.cmm2cin(34587.71)\n",
    "print(VFlange)\n",
    "V_cylinder = v.cylinder(1, 86.59)\n",
    "print(str(V_cylinder) + \" cu-in\")\n",
    "print(2*c.cmm2cin(34587.11))\n",
    "print(V_cylinder + 4.22 + (3*2.06))\n",
    "c.cintocm(57.83)*1000"
   ]
  },
  {
   "cell_type": "code",
   "execution_count": null,
   "metadata": {},
   "outputs": [],
   "source": [
    "V_pipe = v.cylinder(1, 64.42)\n",
    "V_Flange = v.cylinder(1.05, 2.438)*2 +2.32\n",
    "V_tee = 3.54\n",
    "V_elbow = 2.06*2\n",
    "VTotal = V_pipe + V_Flange + V_tee + V_elbow\n",
    "c.cintocm(VTotal)*1000\n",
    "\n"
   ]
  },
  {
   "cell_type": "code",
   "execution_count": null,
   "metadata": {},
   "outputs": [],
   "source": [
    "cp=float(c.getFluidProperty(hOut='CPMASS', hIn='TD', val1=273, val2=.082, hFLd='HYDROGEN'))\n",
    "cv=c.getFluidProperty(hOut='CVMASS', hIn='TD', val1=273, val2=.082, hFLd='HYDROGEN')\n",
    "M = c.getFluidProperty(hOut='MOLARMASS', hIn='TD', val1=273, val2 = 0.082, hFLd='HYDROGEN')\n",
    "print(M)\n",
    "print(cp)\n"
   ]
  },
  {
   "cell_type": "code",
   "execution_count": null,
   "metadata": {},
   "outputs": [],
   "source": [
    "E = mat.getMatProp(mat.SS316, \"E\")*1e9\n",
    "print(c.pa2psi(E))\n",
    "k = mat.getMatProp(mat.SS316, \"k\")\n",
    "print(k)\n",
    "print(c.inch2m(6.25))\n",
    "print(c.getFluidProperty(hOut= 'V', hIn='TD', val1= 375, val2= 0.082, hFLd='HYDROGEN'))\n",
    "print(c.si2sm(76.404))"
   ]
  },
  {
   "cell_type": "code",
   "execution_count": null,
   "metadata": {},
   "outputs": [],
   "source": [
    "Tm_i = (273+508)/2\n",
    "x = np.linspace(0,.5, 1000)\n",
    "D=c.inch2m(.402)\n",
    "qFlux = 59102 #W/m^2\n",
    "P= m.pi*D\n",
    "mdot = .0004 #kg/s\n",
    "Tmx = Tm_i + qFlux*P/(mdot*14196)*x\n",
    "plt.plot(x, Tmx)\n"
   ]
  }
 ],
 "metadata": {
  "kernelspec": {
   "display_name": ".venv",
   "language": "python",
   "name": "python3"
  },
  "language_info": {
   "codemirror_mode": {
    "name": "ipython",
    "version": 3
   },
   "file_extension": ".py",
   "mimetype": "text/x-python",
   "name": "python",
   "nbconvert_exporter": "python",
   "pygments_lexer": "ipython3",
   "version": "3.12.5"
  }
 },
 "nbformat": 4,
 "nbformat_minor": 2
}
