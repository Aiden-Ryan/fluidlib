{
 "cells": [
  {
   "cell_type": "code",
   "execution_count": 14,
   "metadata": {},
   "outputs": [],
   "source": [
    "# import sys\n",
    "# sys.path.append('/Users/125715/python/fluidlib')\n",
    "import math as m\n",
    "import matplotlib.pyplot as plt\n",
    "import numpy as np\n",
    "import conversion_library as c; \n",
    "import volume_calc as v\n",
    "import mat_lib as mat\n",
    "import thermal_solver as t\n",
    "from scipy.integrate import solve_ivp\n",
    "# from fluidlib import flow_prop_calc as f\n",
    "import gc\n"
   ]
  },
  {
   "cell_type": "code",
   "execution_count": 23,
   "metadata": {},
   "outputs": [],
   "source": [
    "node1 = t.Node(\n",
    "    T = 273.15+90,\n",
    "    Pressure= c.psi2pa(115),\n",
    "    medium=\"ARGON\",\n",
    "    medium_type=\"FLUID\",\n",
    "    isothermal=True\n",
    ")\n",
    "node2 = t.Node(\n",
    "    T = 273.15 + 30,\n",
    "    Pressure= 101325,\n",
    "    medium=\"AIR\",\n",
    "    medium_type=\"FLUID\",\n",
    "    isothermal=True\n",
    ")\n",
    "node3 = t.Node(\n",
    "    T=273.15+30,\n",
    "    medium=\"SS316\",\n",
    "    medium_type=\"SOLID\",\n",
    "    V=v.cylinder(c.inch2m(0.75), 1) - v.cylinder(c.inch2m(0.75-2*.065), 1)\n",
    ")\n",
    "a = t.Path(\n",
    "    nodeA = node1,\n",
    "    nodeB = node3,\n",
    "    Aconv=m.pi/4*c.inch2m(0.75-2*.065)*1,\n",
    "    h= 20.2\n",
    ")\n",
    "b = t.Path(\n",
    "    nodeA=node2,\n",
    "    nodeB=node3,\n",
    "    Aconv=m.pi/4*c.inch2m(0.75)*1,\n",
    "    h= 4.6\n",
    ")\n",
    "nodes = [node1, node2, node3]\n",
    "paths = [a, b]\n",
    "t_span = [0,1e5]\n",
    "t_eval = np.linspace(t_span[0], t_span[1], 100)\n",
    "\n",
    "y = t.T_vs_t(\n",
    "    t_span,\n",
    "    t_eval,\n",
    "    paths,\n",
    "    nodes\n",
    ")"
   ]
  },
  {
   "cell_type": "code",
   "execution_count": 24,
   "metadata": {},
   "outputs": [
    {
     "data": {
      "text/plain": [
       "<matplotlib.legend.Legend at 0x2bb3c1ea060>"
      ]
     },
     "execution_count": 24,
     "metadata": {},
     "output_type": "execute_result"
    },
    {
     "data": {
      "image/png": "[encoded data removed]",
      "text/plain": [
       "<Figure size 640x480 with 1 Axes>"
      ]
     },
     "metadata": {},
     "output_type": "display_data"
    }
   ],
   "source": [
    "plt.plot(y.t, y.y[0])\n",
    "plt.plot(y.t, y.y[1])\n",
    "plt.plot(y.t, y.y[2])\n",
    "plt.legend([node1.medium, node2.medium, node3.medium])"
   ]
  },
  {
   "cell_type": "code",
   "execution_count": 25,
   "metadata": {},
   "outputs": [
    {
     "name": "stdout",
     "output_type": "stream",
     "text": [
      "-3.2376009209626178 0.012368450277183014 20.2 350.19144256369316 363.15\n"
     ]
    }
   ],
   "source": [
    "#q = hA(T1-T2)\n",
    "print(a.h * a.Aconv * (y.y[2][-1] - y.y[0][-1]),\n",
    "    a.Aconv,\n",
    "    a.h,\n",
    "    y.y[2][-1],\n",
    "    y.y[0][-1]\n",
    ")"
   ]
  },
  {
   "cell_type": "code",
   "execution_count": 26,
   "metadata": {},
   "outputs": [
    {
     "name": "stdout",
     "output_type": "stream",
     "text": [
      "3.237600991032579 0.014961835012721388 4.6 350.19144256369316 303.15\n"
     ]
    }
   ],
   "source": [
    "print(b.h * b.Aconv * (y.y[2][-1] - y.y[1][-1]),\n",
    "    b.Aconv,\n",
    "    b.h,y.y[2][-1],\n",
    "    y.y[1][-1]\n",
    ")"
   ]
  },
  {
   "cell_type": "code",
   "execution_count": 27,
   "metadata": {},
   "outputs": [
    {
     "data": {
      "text/plain": [
       "0.27547109549664645"
      ]
     },
     "execution_count": 27,
     "metadata": {},
     "output_type": "execute_result"
    }
   ],
   "source": [
    "b.h * b.Aconv / (a.h * a.Aconv)"
   ]
  },
  {
   "cell_type": "code",
   "execution_count": 28,
   "metadata": {},
   "outputs": [
    {
     "data": {
      "text/plain": [
       "np.float64(-0.0)"
      ]
     },
     "execution_count": 28,
     "metadata": {},
     "output_type": "execute_result"
    }
   ],
   "source": [
    "(y.y[2][0] - y.y[1][0]) / (y.y[2][0] - y.y[0][0])"
   ]
  },
  {
   "cell_type": "code",
   "execution_count": 29,
   "metadata": {},
   "outputs": [
    {
     "name": "stdout",
     "output_type": "stream",
     "text": [
      "0.0 0.0 0.0 0.0\n"
     ]
    }
   ],
   "source": [
    "print(a.Acond,\n",
    "    b.Acond,\n",
    "    a.Arad,\n",
    "    b.Arad)"
   ]
  },
  {
   "cell_type": "code",
   "execution_count": 30,
   "metadata": {},
   "outputs": [
    {
     "data": {
      "text/plain": [
       "0.30190705400997914"
      ]
     },
     "execution_count": 30,
     "metadata": {},
     "output_type": "execute_result"
    }
   ],
   "source": [
    "m.pi/4*0.62**2"
   ]
  },
  {
   "cell_type": "code",
   "execution_count": 31,
   "metadata": {},
   "outputs": [
    {
     "name": "stdout",
     "output_type": "stream",
     "text": [
      "0.1397\n",
      "0.0002838704\n"
     ]
    },
    {
     "data": {
      "text/plain": [
       "2.5381594138157092e-05"
      ]
     },
     "execution_count": 31,
     "metadata": {},
     "output_type": "execute_result"
    }
   ],
   "source": [
    "v.cylinder(1,65.37)\n",
    "Dh = c.inch2m(5.5)\n",
    "print(Dh)\n",
    "A = c.si2sm(.44)\n",
    "print(A)\n",
    "c.pa2psi(.175)"
   ]
  },
  {
   "cell_type": "code",
   "execution_count": 14,
   "metadata": {},
   "outputs": [
    {
     "name": "stdout",
     "output_type": "stream",
     "text": [
      "2.110671563862813\n",
      "68.00762696858504 cu-in\n",
      "4.221269899232713\n",
      "78.40762696858505\n"
     ]
    },
    {
     "data": {
      "text/plain": [
       "0.9476639110381953"
      ]
     },
     "execution_count": 14,
     "metadata": {},
     "output_type": "execute_result"
    }
   ],
   "source": [
    "VredTee = c.cmm2cin(833070.56)\n",
    "VFlange = c.cmm2cin(34587.71)\n",
    "print(VFlange)\n",
    "V_cylinder = v.cylinder(1, 86.59)\n",
    "print(str(V_cylinder) + \" cu-in\")\n",
    "print(2*c.cmm2cin(34587.11))\n",
    "print(V_cylinder + 4.22 + (3*2.06))\n",
    "c.cintocm(57.83)*1000"
   ]
  },
  {
   "cell_type": "code",
   "execution_count": 5,
   "metadata": {},
   "outputs": [
    {
     "data": {
      "text/plain": [
       "1.0618405382123053"
      ]
     },
     "execution_count": 5,
     "metadata": {},
     "output_type": "execute_result"
    }
   ],
   "source": [
    "V_pipe = v.cylinder(1, 64.42)\n",
    "V_Flange = v.cylinder(1.05, 2.438)*2 +2.32\n",
    "V_tee = 3.54\n",
    "V_elbow = 2.06*2\n",
    "VTotal = V_pipe + V_Flange + V_tee + V_elbow\n",
    "c.cintocm(VTotal)*1000\n",
    "\n"
   ]
  },
  {
   "cell_type": "code",
   "execution_count": 6,
   "metadata": {},
   "outputs": [
    {
     "name": "stdout",
     "output_type": "stream",
     "text": [
      "0.00201588\n",
      "14196.48992953047\n"
     ]
    }
   ],
   "source": [
    "cp=float(c.getFluidProperty(hOut='CPMASS', hIn='TD', val1=273, val2=.082, hFLd='HYDROGEN'))\n",
    "cv=c.getFluidProperty(hOut='CVMASS', hIn='TD', val1=273, val2=.082, hFLd='HYDROGEN')\n",
    "M = c.getFluidProperty(hOut='MOLARMASS', hIn='TD', val1=273, val2 = 0.082, hFLd='HYDROGEN')\n",
    "print(M)\n",
    "print(cp)\n"
   ]
  },
  {
   "cell_type": "code",
   "execution_count": 7,
   "metadata": {},
   "outputs": [
    {
     "name": "stdout",
     "output_type": "stream",
     "text": [
      "27992272.392367534\n",
      "16.3\n",
      "0.15875\n",
      "1.0431405681397594e-05\n",
      "0.04929280463999999\n"
     ]
    }
   ],
   "source": [
    "E = mat.getMatProp(mat.SS316, \"E\")*1e9\n",
    "print(c.pa2psi(E))\n",
    "k = mat.getMatProp(mat.SS316, \"k\")\n",
    "print(k)\n",
    "print(c.inch2m(6.25))\n",
    "print(c.getFluidProperty(hOut= 'V', hIn='TD', val1= 375, val2= 0.082, hFLd='HYDROGEN'))\n",
    "print(c.si2sm(76.404))"
   ]
  },
  {
   "cell_type": "code",
   "execution_count": 8,
   "metadata": {},
   "outputs": [
    {
     "data": {
      "text/plain": [
       "[<matplotlib.lines.Line2D at 0x1d0151a0a40>]"
      ]
     },
     "execution_count": 8,
     "metadata": {},
     "output_type": "execute_result"
    },
    {
     "data": {
      "image/png": "[encoded data removed]",
      "text/plain": [
       "<Figure size 640x480 with 1 Axes>"
      ]
     },
     "metadata": {},
     "output_type": "display_data"
    }
   ],
   "source": [
    "Tm_i = (273+508)/2\n",
    "x = np.linspace(0,.5, 1000)\n",
    "D=c.inch2m(.402)\n",
    "qFlux = 59102 #W/m^2\n",
    "P= m.pi*D\n",
    "mdot = .0004 #kg/s\n",
    "Tmx = Tm_i + qFlux*P/(mdot*14196)*x\n",
    "plt.plot(x, Tmx)\n"
   ]
  }
 ],
 "metadata": {
  "kernelspec": {
   "display_name": ".venv",
   "language": "python",
   "name": "python3"
  },
  "language_info": {
   "codemirror_mode": {
    "name": "ipython",
    "version": 3
   },
   "file_extension": ".py",
   "mimetype": "text/x-python",
   "name": "python",
   "nbconvert_exporter": "python",
   "pygments_lexer": "ipython3",
   "version": "3.12.4"
  }
 },
 "nbformat": 4,
 "nbformat_minor": 2
}
